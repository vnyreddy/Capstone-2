{
 "cells": [
  {
   "cell_type": "markdown",
   "id": "ebdfe75b",
   "metadata": {},
   "source": [
    "## Movie recommendation system\n",
    "\n",
    "### Research Question: \n",
    "\n",
    "Can we accurately recommend movies that can bring more user engagement?\n"
   ]
  },
  {
   "cell_type": "markdown",
   "id": "a82e1a8f",
   "metadata": {},
   "source": [
    "## Business Understanding\n",
    "\n",
    "The business has an online sreaming platform that wants to increase the user engagement with platform and retains user subscription. Since there are many streaming platforms in the market, and also with in the this streaming platform there are thousands of content to choose, and it is hight chance that user can miss likable content, in other perspective, business also runs ads between videos and it is important to show more ads to get revenue. \n",
    "\n",
    "The goal of the business is to create a recommendation system, that can recommend movie to the user that most likely interested, and help user to find rind right content by recommending, also increase business revenue.\n"
   ]
  },
  {
   "cell_type": "markdown",
   "id": "c332fd1b",
   "metadata": {},
   "source": [
    "## Data Understanding\n",
    "\n",
    "#### Data Collection:\n",
    "The data is collected from the website called grouplens(https://grouplens.org/datasets/movielens/), GroupLens research has collected movie ratings from the MovieLens website, the data is collected thousands of movies from many users in various point of the time. The dataset describes the 5 star ratings and free-text tagging activity from MovieRlens. The users who participated in this survey are selected randomly, and all the selected users had reated at least 20 movies.\n",
    "\n",
    "Citation:\n",
    "F. Maxwell Harper and Joseph A. Konstan. 2015. The MovieLens Datasets: History and Context. ACM Transactions on Interactive Intelligent Systems (TiiS) 5, 4: 19:1–19:19. https://doi.org/10.1145/2827872\n"
   ]
  },
  {
   "cell_type": "markdown",
   "id": "21dbc5e6",
   "metadata": {},
   "source": [
    "#### Libraries and imports"
   ]
  },
  {
   "cell_type": "code",
   "execution_count": 1,
   "id": "ef73bcde",
   "metadata": {},
   "outputs": [],
   "source": [
    "import numpy as np\n",
    "import pandas as pd\n",
    "import seaborn as sns\n",
    "import plotly.express as px\n",
    "import matplotlib.pyplot as plt\n",
    "\n",
    "from sklearn.preprocessing import MultiLabelBinarizer\n",
    "from sklearn.feature_extraction.text import TfidfVectorizer\n",
    "from sklearn.metrics.pairwise import cosine_similarity\n",
    "\n",
    "from surprise.prediction_algorithms.random_pred import NormalPredictor\n",
    "from surprise import Dataset, Reader, SVD\n",
    "from surprise.model_selection import train_test_split\n",
    "from surprise import accuracy\n",
    "from surprise.model_selection import cross_validate\n",
    "from surprise import SlopeOne\n",
    "from surprise import KNNBasic\n",
    "from surprise.model_selection import GridSearchCV"
   ]
  },
  {
   "cell_type": "markdown",
   "id": "8301da68",
   "metadata": {},
   "source": [
    "#### Reading Data"
   ]
  },
  {
   "cell_type": "code",
   "execution_count": 2,
   "id": "b1393d2e",
   "metadata": {},
   "outputs": [
    {
     "name": "stdout",
     "output_type": "stream",
     "text": [
      "Number of Rows and Colums of movies_df: (9742, 3)\n"
     ]
    },
    {
     "data": {
      "text/html": [
       "<div>\n",
       "<style scoped>\n",
       "    .dataframe tbody tr th:only-of-type {\n",
       "        vertical-align: middle;\n",
       "    }\n",
       "\n",
       "    .dataframe tbody tr th {\n",
       "        vertical-align: top;\n",
       "    }\n",
       "\n",
       "    .dataframe thead th {\n",
       "        text-align: right;\n",
       "    }\n",
       "</style>\n",
       "<table border=\"1\" class=\"dataframe\">\n",
       "  <thead>\n",
       "    <tr style=\"text-align: right;\">\n",
       "      <th></th>\n",
       "      <th>movieId</th>\n",
       "      <th>title</th>\n",
       "      <th>genres</th>\n",
       "    </tr>\n",
       "  </thead>\n",
       "  <tbody>\n",
       "    <tr>\n",
       "      <th>0</th>\n",
       "      <td>1</td>\n",
       "      <td>Toy Story (1995)</td>\n",
       "      <td>Adventure|Animation|Children|Comedy|Fantasy</td>\n",
       "    </tr>\n",
       "    <tr>\n",
       "      <th>1</th>\n",
       "      <td>2</td>\n",
       "      <td>Jumanji (1995)</td>\n",
       "      <td>Adventure|Children|Fantasy</td>\n",
       "    </tr>\n",
       "    <tr>\n",
       "      <th>2</th>\n",
       "      <td>3</td>\n",
       "      <td>Grumpier Old Men (1995)</td>\n",
       "      <td>Comedy|Romance</td>\n",
       "    </tr>\n",
       "    <tr>\n",
       "      <th>3</th>\n",
       "      <td>4</td>\n",
       "      <td>Waiting to Exhale (1995)</td>\n",
       "      <td>Comedy|Drama|Romance</td>\n",
       "    </tr>\n",
       "    <tr>\n",
       "      <th>4</th>\n",
       "      <td>5</td>\n",
       "      <td>Father of the Bride Part II (1995)</td>\n",
       "      <td>Comedy</td>\n",
       "    </tr>\n",
       "  </tbody>\n",
       "</table>\n",
       "</div>"
      ],
      "text/plain": [
       "   movieId                               title  \\\n",
       "0        1                    Toy Story (1995)   \n",
       "1        2                      Jumanji (1995)   \n",
       "2        3             Grumpier Old Men (1995)   \n",
       "3        4            Waiting to Exhale (1995)   \n",
       "4        5  Father of the Bride Part II (1995)   \n",
       "\n",
       "                                        genres  \n",
       "0  Adventure|Animation|Children|Comedy|Fantasy  \n",
       "1                   Adventure|Children|Fantasy  \n",
       "2                               Comedy|Romance  \n",
       "3                         Comedy|Drama|Romance  \n",
       "4                                       Comedy  "
      ]
     },
     "execution_count": 2,
     "metadata": {},
     "output_type": "execute_result"
    }
   ],
   "source": [
    "movies_df = pd.read_csv('data/ml-latest-small/movies.csv')\n",
    "print(f\"Number of Rows and Colums of movies_df: {movies_df.shape}\")\n",
    "movies_df.head()"
   ]
  },
  {
   "cell_type": "code",
   "execution_count": 3,
   "id": "cf952d0e",
   "metadata": {},
   "outputs": [
    {
     "name": "stdout",
     "output_type": "stream",
     "text": [
      "Number of Rows and Colums of rating_df: (100836, 4)\n"
     ]
    },
    {
     "data": {
      "text/html": [
       "<div>\n",
       "<style scoped>\n",
       "    .dataframe tbody tr th:only-of-type {\n",
       "        vertical-align: middle;\n",
       "    }\n",
       "\n",
       "    .dataframe tbody tr th {\n",
       "        vertical-align: top;\n",
       "    }\n",
       "\n",
       "    .dataframe thead th {\n",
       "        text-align: right;\n",
       "    }\n",
       "</style>\n",
       "<table border=\"1\" class=\"dataframe\">\n",
       "  <thead>\n",
       "    <tr style=\"text-align: right;\">\n",
       "      <th></th>\n",
       "      <th>userId</th>\n",
       "      <th>movieId</th>\n",
       "      <th>rating</th>\n",
       "      <th>timestamp</th>\n",
       "    </tr>\n",
       "  </thead>\n",
       "  <tbody>\n",
       "    <tr>\n",
       "      <th>0</th>\n",
       "      <td>1</td>\n",
       "      <td>1</td>\n",
       "      <td>4.0</td>\n",
       "      <td>964982703</td>\n",
       "    </tr>\n",
       "    <tr>\n",
       "      <th>1</th>\n",
       "      <td>1</td>\n",
       "      <td>3</td>\n",
       "      <td>4.0</td>\n",
       "      <td>964981247</td>\n",
       "    </tr>\n",
       "    <tr>\n",
       "      <th>2</th>\n",
       "      <td>1</td>\n",
       "      <td>6</td>\n",
       "      <td>4.0</td>\n",
       "      <td>964982224</td>\n",
       "    </tr>\n",
       "    <tr>\n",
       "      <th>3</th>\n",
       "      <td>1</td>\n",
       "      <td>47</td>\n",
       "      <td>5.0</td>\n",
       "      <td>964983815</td>\n",
       "    </tr>\n",
       "    <tr>\n",
       "      <th>4</th>\n",
       "      <td>1</td>\n",
       "      <td>50</td>\n",
       "      <td>5.0</td>\n",
       "      <td>964982931</td>\n",
       "    </tr>\n",
       "  </tbody>\n",
       "</table>\n",
       "</div>"
      ],
      "text/plain": [
       "   userId  movieId  rating  timestamp\n",
       "0       1        1     4.0  964982703\n",
       "1       1        3     4.0  964981247\n",
       "2       1        6     4.0  964982224\n",
       "3       1       47     5.0  964983815\n",
       "4       1       50     5.0  964982931"
      ]
     },
     "execution_count": 3,
     "metadata": {},
     "output_type": "execute_result"
    }
   ],
   "source": [
    "rating_df = pd.read_csv('data/ml-latest-small/ratings.csv')\n",
    "print(f\"Number of Rows and Colums of rating_df: {rating_df.shape}\")\n",
    "rating_df.head()"
   ]
  },
  {
   "cell_type": "code",
   "execution_count": 4,
   "id": "71796195",
   "metadata": {},
   "outputs": [
    {
     "name": "stdout",
     "output_type": "stream",
     "text": [
      "Number of Rows and Colums of tags_df: (3683, 4)\n"
     ]
    },
    {
     "data": {
      "text/html": [
       "<div>\n",
       "<style scoped>\n",
       "    .dataframe tbody tr th:only-of-type {\n",
       "        vertical-align: middle;\n",
       "    }\n",
       "\n",
       "    .dataframe tbody tr th {\n",
       "        vertical-align: top;\n",
       "    }\n",
       "\n",
       "    .dataframe thead th {\n",
       "        text-align: right;\n",
       "    }\n",
       "</style>\n",
       "<table border=\"1\" class=\"dataframe\">\n",
       "  <thead>\n",
       "    <tr style=\"text-align: right;\">\n",
       "      <th></th>\n",
       "      <th>userId</th>\n",
       "      <th>movieId</th>\n",
       "      <th>tag</th>\n",
       "      <th>timestamp</th>\n",
       "    </tr>\n",
       "  </thead>\n",
       "  <tbody>\n",
       "    <tr>\n",
       "      <th>0</th>\n",
       "      <td>2</td>\n",
       "      <td>60756</td>\n",
       "      <td>funny</td>\n",
       "      <td>1445714994</td>\n",
       "    </tr>\n",
       "    <tr>\n",
       "      <th>1</th>\n",
       "      <td>2</td>\n",
       "      <td>60756</td>\n",
       "      <td>Highly quotable</td>\n",
       "      <td>1445714996</td>\n",
       "    </tr>\n",
       "    <tr>\n",
       "      <th>2</th>\n",
       "      <td>2</td>\n",
       "      <td>60756</td>\n",
       "      <td>will ferrell</td>\n",
       "      <td>1445714992</td>\n",
       "    </tr>\n",
       "    <tr>\n",
       "      <th>3</th>\n",
       "      <td>2</td>\n",
       "      <td>89774</td>\n",
       "      <td>Boxing story</td>\n",
       "      <td>1445715207</td>\n",
       "    </tr>\n",
       "    <tr>\n",
       "      <th>4</th>\n",
       "      <td>2</td>\n",
       "      <td>89774</td>\n",
       "      <td>MMA</td>\n",
       "      <td>1445715200</td>\n",
       "    </tr>\n",
       "  </tbody>\n",
       "</table>\n",
       "</div>"
      ],
      "text/plain": [
       "   userId  movieId              tag   timestamp\n",
       "0       2    60756            funny  1445714994\n",
       "1       2    60756  Highly quotable  1445714996\n",
       "2       2    60756     will ferrell  1445714992\n",
       "3       2    89774     Boxing story  1445715207\n",
       "4       2    89774              MMA  1445715200"
      ]
     },
     "execution_count": 4,
     "metadata": {},
     "output_type": "execute_result"
    }
   ],
   "source": [
    "tags_df = pd.read_csv('data/ml-latest-small/tags.csv')\n",
    "print(f\"Number of Rows and Colums of tags_df: {tags_df.shape}\")\n",
    "tags_df.head()"
   ]
  },
  {
   "cell_type": "markdown",
   "id": "a645615f",
   "metadata": {},
   "source": [
    "### Data Description\n",
    "\n",
    "The data is combination of thee datasets that are in CSV format, \n",
    "* Movies: The movies dataset contains the three features, such as, movieId, title, and genres, and having total of 9742 movies records.\n",
    "* Ratings: The ratings dataset consists of 4 features, such as userId, movieId, rating and timestamp, and a staggering 100836 records. Each record is user rating for a particular movie.\n",
    "* Tags: The tags dataset is having 4 features, which includes userId, movieId, tag, and timestamp, it contains total of 3683 records."
   ]
  },
  {
   "cell_type": "markdown",
   "id": "2bb06061",
   "metadata": {},
   "source": [
    "### Exploratory Data Analysis"
   ]
  },
  {
   "cell_type": "code",
   "execution_count": 5,
   "id": "e913716c",
   "metadata": {},
   "outputs": [
    {
     "name": "stdout",
     "output_type": "stream",
     "text": [
      "Number of users provides rating : 610\n"
     ]
    }
   ],
   "source": [
    "# Finding number of users that are participated in ratings.\n",
    "nubmer_of_users = rating_df['userId'].nunique()\n",
    "print(f\"Number of users provides rating : {nubmer_of_users}\")"
   ]
  },
  {
   "cell_type": "code",
   "execution_count": 6,
   "id": "7ee72e45",
   "metadata": {},
   "outputs": [
    {
     "data": {
      "image/png": "[encoded data removed]",
      "text/plain": [
       "<Figure size 640x480 with 1 Axes>"
      ]
     },
     "metadata": {},
     "output_type": "display_data"
    }
   ],
   "source": [
    "# Plot proportions of each rating\n",
    "sns.countplot(data=rating_df, x='rating', palette='viridis')\n",
    "plt.title('Count of Each Rating')\n",
    "plt.xlabel('Rating')\n",
    "plt.ylabel('Count')\n",
    "plt.show()"
   ]
  },
  {
   "cell_type": "code",
   "execution_count": 7,
   "id": "59ba1c3e",
   "metadata": {},
   "outputs": [
    {
     "name": "stdout",
     "output_type": "stream",
     "text": [
      "Number of unique set of geners: 951\n"
     ]
    }
   ],
   "source": [
    "number_of_genres = movies_df['genres'].nunique()\n",
    "print(f\"Number of unique set of geners: {number_of_genres}\")"
   ]
  },
  {
   "cell_type": "code",
   "execution_count": 8,
   "id": "d9f55452",
   "metadata": {},
   "outputs": [
    {
     "name": "stdout",
     "output_type": "stream",
     "text": [
      "Number of users paritipated in rating: 610\n"
     ]
    }
   ],
   "source": [
    "number_of_users = rating_df['userId'].nunique()\n",
    "print(f\"Number of users paritipated in rating: {number_of_users}\")"
   ]
  },
  {
   "cell_type": "code",
   "execution_count": 9,
   "id": "ced443fa",
   "metadata": {},
   "outputs": [
    {
     "data": {
      "text/plain": [
       "Text(0.5, 1.0, 'Distribution of ratings per movie')"
      ]
     },
     "execution_count": 9,
     "metadata": {},
     "output_type": "execute_result"
    },
    {
     "data": {
      "image/png": "[encoded data removed]",
      "text/plain": [
       "<Figure size 1200x600 with 1 Axes>"
      ]
     },
     "metadata": {},
     "output_type": "display_data"
    }
   ],
   "source": [
    "# plotting rating distribution per movie\n",
    "rating_per_movie = rating_df.groupby('movieId')['rating'].count().reset_index()\n",
    "rating_per_movie\n",
    "plt.figure(figsize=(12,6))\n",
    "sns.lineplot(data=rating_per_movie, x='movieId', y='rating')\n",
    "plt.xlabel('Movies')\n",
    "plt.ylabel('Rating Count')\n",
    "plt.title('Distribution of ratings per movie')"
   ]
  },
  {
   "cell_type": "code",
   "execution_count": 10,
   "id": "65ed16a1",
   "metadata": {},
   "outputs": [
    {
     "data": {
      "text/plain": [
       "Text(0.5, 1.0, 'Distribution of ratings per user')"
      ]
     },
     "execution_count": 10,
     "metadata": {},
     "output_type": "execute_result"
    },
    {
     "data": {
      "image/png": "[encoded data removed]",
      "text/plain": [
       "<Figure size 1200x600 with 1 Axes>"
      ]
     },
     "metadata": {},
     "output_type": "display_data"
    }
   ],
   "source": [
    "# Plotting rating distribution per user\n",
    "rating_per_user = rating_df.groupby('userId')['rating'].count().reset_index()\n",
    "rating_per_user\n",
    "plt.figure(figsize=(12,6))\n",
    "sns.lineplot(data=rating_per_user, x='userId', y='rating')\n",
    "plt.xlabel('Users')\n",
    "plt.ylabel('Rating Count')\n",
    "plt.title('Distribution of ratings per user')"
   ]
  },
  {
   "cell_type": "code",
   "execution_count": 11,
   "id": "589b7708",
   "metadata": {},
   "outputs": [
    {
     "data": {
      "text/html": [
       "<div>\n",
       "<style scoped>\n",
       "    .dataframe tbody tr th:only-of-type {\n",
       "        vertical-align: middle;\n",
       "    }\n",
       "\n",
       "    .dataframe tbody tr th {\n",
       "        vertical-align: top;\n",
       "    }\n",
       "\n",
       "    .dataframe thead th {\n",
       "        text-align: right;\n",
       "    }\n",
       "</style>\n",
       "<table border=\"1\" class=\"dataframe\">\n",
       "  <thead>\n",
       "    <tr style=\"text-align: right;\">\n",
       "      <th></th>\n",
       "      <th>movieId</th>\n",
       "      <th>title</th>\n",
       "      <th>genres</th>\n",
       "      <th>(no genres listed)</th>\n",
       "      <th>Action</th>\n",
       "      <th>Adventure</th>\n",
       "      <th>Animation</th>\n",
       "      <th>Children</th>\n",
       "      <th>Comedy</th>\n",
       "      <th>Crime</th>\n",
       "      <th>...</th>\n",
       "      <th>Film-Noir</th>\n",
       "      <th>Horror</th>\n",
       "      <th>IMAX</th>\n",
       "      <th>Musical</th>\n",
       "      <th>Mystery</th>\n",
       "      <th>Romance</th>\n",
       "      <th>Sci-Fi</th>\n",
       "      <th>Thriller</th>\n",
       "      <th>War</th>\n",
       "      <th>Western</th>\n",
       "    </tr>\n",
       "  </thead>\n",
       "  <tbody>\n",
       "    <tr>\n",
       "      <th>0</th>\n",
       "      <td>1</td>\n",
       "      <td>Toy Story (1995)</td>\n",
       "      <td>Adventure|Animation|Children|Comedy|Fantasy</td>\n",
       "      <td>0</td>\n",
       "      <td>0</td>\n",
       "      <td>1</td>\n",
       "      <td>1</td>\n",
       "      <td>1</td>\n",
       "      <td>1</td>\n",
       "      <td>0</td>\n",
       "      <td>...</td>\n",
       "      <td>0</td>\n",
       "      <td>0</td>\n",
       "      <td>0</td>\n",
       "      <td>0</td>\n",
       "      <td>0</td>\n",
       "      <td>0</td>\n",
       "      <td>0</td>\n",
       "      <td>0</td>\n",
       "      <td>0</td>\n",
       "      <td>0</td>\n",
       "    </tr>\n",
       "    <tr>\n",
       "      <th>1</th>\n",
       "      <td>2</td>\n",
       "      <td>Jumanji (1995)</td>\n",
       "      <td>Adventure|Children|Fantasy</td>\n",
       "      <td>0</td>\n",
       "      <td>0</td>\n",
       "      <td>1</td>\n",
       "      <td>0</td>\n",
       "      <td>1</td>\n",
       "      <td>0</td>\n",
       "      <td>0</td>\n",
       "      <td>...</td>\n",
       "      <td>0</td>\n",
       "      <td>0</td>\n",
       "      <td>0</td>\n",
       "      <td>0</td>\n",
       "      <td>0</td>\n",
       "      <td>0</td>\n",
       "      <td>0</td>\n",
       "      <td>0</td>\n",
       "      <td>0</td>\n",
       "      <td>0</td>\n",
       "    </tr>\n",
       "    <tr>\n",
       "      <th>2</th>\n",
       "      <td>3</td>\n",
       "      <td>Grumpier Old Men (1995)</td>\n",
       "      <td>Comedy|Romance</td>\n",
       "      <td>0</td>\n",
       "      <td>0</td>\n",
       "      <td>0</td>\n",
       "      <td>0</td>\n",
       "      <td>0</td>\n",
       "      <td>1</td>\n",
       "      <td>0</td>\n",
       "      <td>...</td>\n",
       "      <td>0</td>\n",
       "      <td>0</td>\n",
       "      <td>0</td>\n",
       "      <td>0</td>\n",
       "      <td>0</td>\n",
       "      <td>1</td>\n",
       "      <td>0</td>\n",
       "      <td>0</td>\n",
       "      <td>0</td>\n",
       "      <td>0</td>\n",
       "    </tr>\n",
       "    <tr>\n",
       "      <th>3</th>\n",
       "      <td>4</td>\n",
       "      <td>Waiting to Exhale (1995)</td>\n",
       "      <td>Comedy|Drama|Romance</td>\n",
       "      <td>0</td>\n",
       "      <td>0</td>\n",
       "      <td>0</td>\n",
       "      <td>0</td>\n",
       "      <td>0</td>\n",
       "      <td>1</td>\n",
       "      <td>0</td>\n",
       "      <td>...</td>\n",
       "      <td>0</td>\n",
       "      <td>0</td>\n",
       "      <td>0</td>\n",
       "      <td>0</td>\n",
       "      <td>0</td>\n",
       "      <td>1</td>\n",
       "      <td>0</td>\n",
       "      <td>0</td>\n",
       "      <td>0</td>\n",
       "      <td>0</td>\n",
       "    </tr>\n",
       "    <tr>\n",
       "      <th>4</th>\n",
       "      <td>5</td>\n",
       "      <td>Father of the Bride Part II (1995)</td>\n",
       "      <td>Comedy</td>\n",
       "      <td>0</td>\n",
       "      <td>0</td>\n",
       "      <td>0</td>\n",
       "      <td>0</td>\n",
       "      <td>0</td>\n",
       "      <td>1</td>\n",
       "      <td>0</td>\n",
       "      <td>...</td>\n",
       "      <td>0</td>\n",
       "      <td>0</td>\n",
       "      <td>0</td>\n",
       "      <td>0</td>\n",
       "      <td>0</td>\n",
       "      <td>0</td>\n",
       "      <td>0</td>\n",
       "      <td>0</td>\n",
       "      <td>0</td>\n",
       "      <td>0</td>\n",
       "    </tr>\n",
       "  </tbody>\n",
       "</table>\n",
       "<p>5 rows × 23 columns</p>\n",
       "</div>"
      ],
      "text/plain": [
       "   movieId                               title  \\\n",
       "0        1                    Toy Story (1995)   \n",
       "1        2                      Jumanji (1995)   \n",
       "2        3             Grumpier Old Men (1995)   \n",
       "3        4            Waiting to Exhale (1995)   \n",
       "4        5  Father of the Bride Part II (1995)   \n",
       "\n",
       "                                        genres  (no genres listed)  Action  \\\n",
       "0  Adventure|Animation|Children|Comedy|Fantasy                   0       0   \n",
       "1                   Adventure|Children|Fantasy                   0       0   \n",
       "2                               Comedy|Romance                   0       0   \n",
       "3                         Comedy|Drama|Romance                   0       0   \n",
       "4                                       Comedy                   0       0   \n",
       "\n",
       "   Adventure  Animation  Children  Comedy  Crime  ...  Film-Noir  Horror  \\\n",
       "0          1          1         1       1      0  ...          0       0   \n",
       "1          1          0         1       0      0  ...          0       0   \n",
       "2          0          0         0       1      0  ...          0       0   \n",
       "3          0          0         0       1      0  ...          0       0   \n",
       "4          0          0         0       1      0  ...          0       0   \n",
       "\n",
       "   IMAX  Musical  Mystery  Romance  Sci-Fi  Thriller  War  Western  \n",
       "0     0        0        0        0       0         0    0        0  \n",
       "1     0        0        0        0       0         0    0        0  \n",
       "2     0        0        0        1       0         0    0        0  \n",
       "3     0        0        0        1       0         0    0        0  \n",
       "4     0        0        0        0       0         0    0        0  \n",
       "\n",
       "[5 rows x 23 columns]"
      ]
     },
     "execution_count": 11,
     "metadata": {},
     "output_type": "execute_result"
    }
   ],
   "source": [
    "# Converting genres in to each binary column\n",
    "# Create an isntance of MultilableBinarizer\n",
    "mld = MultiLabelBinarizer()\n",
    "\n",
    "# Fit and transform the data\n",
    "binarized_genres = mld.fit_transform(movies_df['genres'].str.split(\"|\"))\n",
    "movies_df[mld.classes_] = binarized_genres\n",
    "movies_df.head()"
   ]
  },
  {
   "cell_type": "code",
   "execution_count": 12,
   "id": "c49b1d54",
   "metadata": {},
   "outputs": [
    {
     "data": {
      "image/png": "[encoded data removed]",
      "text/plain": [
       "<Figure size 640x480 with 1 Axes>"
      ]
     },
     "metadata": {},
     "output_type": "display_data"
    }
   ],
   "source": [
    "# Plot distribution of each genres\n",
    "genre_counts = movies_df.iloc[:, 3:].sum()\n",
    "genre_counts.sort_values(ascending=False).plot(kind='barh', color='orange')\n",
    "plt.title('Distribution of Genres')\n",
    "plt.xlabel('Count')\n",
    "plt.ylabel('Genres')\n",
    "plt.show()"
   ]
  },
  {
   "cell_type": "code",
   "execution_count": 13,
   "id": "f43b04a8",
   "metadata": {},
   "outputs": [
    {
     "name": "stdout",
     "output_type": "stream",
     "text": [
      "Number of movies that are not rated: 18\n"
     ]
    }
   ],
   "source": [
    "# Finding movies that are not rated\n",
    "movies_not_rated = set(movies_df['movieId']) - set(rating_df['movieId'])\n",
    "movies_not_rated_df = movies_df[movies_df['movieId'].isin(movies_not_rated)]\n",
    "print(f\"Number of movies that are not rated: {movies_not_rated_df.shape[0]}\")"
   ]
  },
  {
   "cell_type": "markdown",
   "id": "35a7ddff",
   "metadata": {},
   "source": [
    "### Verifying Data Quality\n",
    "\n",
    "Checking any null values, because some model do not work well with null values."
   ]
  },
  {
   "cell_type": "code",
   "execution_count": 14,
   "id": "57ac3bfa",
   "metadata": {},
   "outputs": [
    {
     "data": {
      "text/plain": [
       "movieId               0\n",
       "title                 0\n",
       "genres                0\n",
       "(no genres listed)    0\n",
       "Action                0\n",
       "Adventure             0\n",
       "Animation             0\n",
       "Children              0\n",
       "Comedy                0\n",
       "Crime                 0\n",
       "Documentary           0\n",
       "Drama                 0\n",
       "Fantasy               0\n",
       "Film-Noir             0\n",
       "Horror                0\n",
       "IMAX                  0\n",
       "Musical               0\n",
       "Mystery               0\n",
       "Romance               0\n",
       "Sci-Fi                0\n",
       "Thriller              0\n",
       "War                   0\n",
       "Western               0\n",
       "dtype: int64"
      ]
     },
     "execution_count": 14,
     "metadata": {},
     "output_type": "execute_result"
    }
   ],
   "source": [
    "movies_df.isnull().sum()"
   ]
  },
  {
   "cell_type": "code",
   "execution_count": 15,
   "id": "e64f9c67",
   "metadata": {},
   "outputs": [
    {
     "data": {
      "text/plain": [
       "userId       0\n",
       "movieId      0\n",
       "rating       0\n",
       "timestamp    0\n",
       "dtype: int64"
      ]
     },
     "execution_count": 15,
     "metadata": {},
     "output_type": "execute_result"
    }
   ],
   "source": [
    "rating_df.isnull().sum()"
   ]
  },
  {
   "cell_type": "code",
   "execution_count": 16,
   "id": "c8ca9c89",
   "metadata": {},
   "outputs": [
    {
     "data": {
      "text/plain": [
       "userId       0\n",
       "movieId      0\n",
       "tag          0\n",
       "timestamp    0\n",
       "dtype: int64"
      ]
     },
     "execution_count": 16,
     "metadata": {},
     "output_type": "execute_result"
    }
   ],
   "source": [
    "tags_df.isnull().sum()"
   ]
  },
  {
   "cell_type": "markdown",
   "id": "b07097a8",
   "metadata": {},
   "source": [
    "The data is clean, all the features are formated correctly, and there no null values."
   ]
  },
  {
   "cell_type": "markdown",
   "id": "e1935b74",
   "metadata": {},
   "source": [
    "### Data Preparation\n",
    "\n",
    "Selecting the three datasets for the modeling, first is movies_df which contains the list of movie with genres that movie belongs, and rating_df for consists of user rating for each movie, some movies are not rated, those are listed in movies_not_rated_df. Final dataset that going to be used for modeling is tags_df. Both rating and tags datasets contains the time stamp feature which is not really useful in this modeling at lest for this iteration."
   ]
  },
  {
   "cell_type": "code",
   "execution_count": 17,
   "id": "1fc718fa",
   "metadata": {},
   "outputs": [
    {
     "data": {
      "text/html": [
       "<div>\n",
       "<style scoped>\n",
       "    .dataframe tbody tr th:only-of-type {\n",
       "        vertical-align: middle;\n",
       "    }\n",
       "\n",
       "    .dataframe tbody tr th {\n",
       "        vertical-align: top;\n",
       "    }\n",
       "\n",
       "    .dataframe thead th {\n",
       "        text-align: right;\n",
       "    }\n",
       "</style>\n",
       "<table border=\"1\" class=\"dataframe\">\n",
       "  <thead>\n",
       "    <tr style=\"text-align: right;\">\n",
       "      <th></th>\n",
       "      <th>userId</th>\n",
       "      <th>movieId</th>\n",
       "      <th>rating</th>\n",
       "      <th>title</th>\n",
       "      <th>genres</th>\n",
       "      <th>(no genres listed)</th>\n",
       "      <th>Action</th>\n",
       "      <th>Adventure</th>\n",
       "      <th>Animation</th>\n",
       "      <th>Children</th>\n",
       "      <th>...</th>\n",
       "      <th>Film-Noir</th>\n",
       "      <th>Horror</th>\n",
       "      <th>IMAX</th>\n",
       "      <th>Musical</th>\n",
       "      <th>Mystery</th>\n",
       "      <th>Romance</th>\n",
       "      <th>Sci-Fi</th>\n",
       "      <th>Thriller</th>\n",
       "      <th>War</th>\n",
       "      <th>Western</th>\n",
       "    </tr>\n",
       "  </thead>\n",
       "  <tbody>\n",
       "    <tr>\n",
       "      <th>0</th>\n",
       "      <td>1</td>\n",
       "      <td>1</td>\n",
       "      <td>4.0</td>\n",
       "      <td>Toy Story (1995)</td>\n",
       "      <td>Adventure|Animation|Children|Comedy|Fantasy</td>\n",
       "      <td>0</td>\n",
       "      <td>0</td>\n",
       "      <td>1</td>\n",
       "      <td>1</td>\n",
       "      <td>1</td>\n",
       "      <td>...</td>\n",
       "      <td>0</td>\n",
       "      <td>0</td>\n",
       "      <td>0</td>\n",
       "      <td>0</td>\n",
       "      <td>0</td>\n",
       "      <td>0</td>\n",
       "      <td>0</td>\n",
       "      <td>0</td>\n",
       "      <td>0</td>\n",
       "      <td>0</td>\n",
       "    </tr>\n",
       "    <tr>\n",
       "      <th>1</th>\n",
       "      <td>5</td>\n",
       "      <td>1</td>\n",
       "      <td>4.0</td>\n",
       "      <td>Toy Story (1995)</td>\n",
       "      <td>Adventure|Animation|Children|Comedy|Fantasy</td>\n",
       "      <td>0</td>\n",
       "      <td>0</td>\n",
       "      <td>1</td>\n",
       "      <td>1</td>\n",
       "      <td>1</td>\n",
       "      <td>...</td>\n",
       "      <td>0</td>\n",
       "      <td>0</td>\n",
       "      <td>0</td>\n",
       "      <td>0</td>\n",
       "      <td>0</td>\n",
       "      <td>0</td>\n",
       "      <td>0</td>\n",
       "      <td>0</td>\n",
       "      <td>0</td>\n",
       "      <td>0</td>\n",
       "    </tr>\n",
       "    <tr>\n",
       "      <th>2</th>\n",
       "      <td>7</td>\n",
       "      <td>1</td>\n",
       "      <td>4.5</td>\n",
       "      <td>Toy Story (1995)</td>\n",
       "      <td>Adventure|Animation|Children|Comedy|Fantasy</td>\n",
       "      <td>0</td>\n",
       "      <td>0</td>\n",
       "      <td>1</td>\n",
       "      <td>1</td>\n",
       "      <td>1</td>\n",
       "      <td>...</td>\n",
       "      <td>0</td>\n",
       "      <td>0</td>\n",
       "      <td>0</td>\n",
       "      <td>0</td>\n",
       "      <td>0</td>\n",
       "      <td>0</td>\n",
       "      <td>0</td>\n",
       "      <td>0</td>\n",
       "      <td>0</td>\n",
       "      <td>0</td>\n",
       "    </tr>\n",
       "    <tr>\n",
       "      <th>3</th>\n",
       "      <td>15</td>\n",
       "      <td>1</td>\n",
       "      <td>2.5</td>\n",
       "      <td>Toy Story (1995)</td>\n",
       "      <td>Adventure|Animation|Children|Comedy|Fantasy</td>\n",
       "      <td>0</td>\n",
       "      <td>0</td>\n",
       "      <td>1</td>\n",
       "      <td>1</td>\n",
       "      <td>1</td>\n",
       "      <td>...</td>\n",
       "      <td>0</td>\n",
       "      <td>0</td>\n",
       "      <td>0</td>\n",
       "      <td>0</td>\n",
       "      <td>0</td>\n",
       "      <td>0</td>\n",
       "      <td>0</td>\n",
       "      <td>0</td>\n",
       "      <td>0</td>\n",
       "      <td>0</td>\n",
       "    </tr>\n",
       "    <tr>\n",
       "      <th>4</th>\n",
       "      <td>17</td>\n",
       "      <td>1</td>\n",
       "      <td>4.5</td>\n",
       "      <td>Toy Story (1995)</td>\n",
       "      <td>Adventure|Animation|Children|Comedy|Fantasy</td>\n",
       "      <td>0</td>\n",
       "      <td>0</td>\n",
       "      <td>1</td>\n",
       "      <td>1</td>\n",
       "      <td>1</td>\n",
       "      <td>...</td>\n",
       "      <td>0</td>\n",
       "      <td>0</td>\n",
       "      <td>0</td>\n",
       "      <td>0</td>\n",
       "      <td>0</td>\n",
       "      <td>0</td>\n",
       "      <td>0</td>\n",
       "      <td>0</td>\n",
       "      <td>0</td>\n",
       "      <td>0</td>\n",
       "    </tr>\n",
       "    <tr>\n",
       "      <th>...</th>\n",
       "      <td>...</td>\n",
       "      <td>...</td>\n",
       "      <td>...</td>\n",
       "      <td>...</td>\n",
       "      <td>...</td>\n",
       "      <td>...</td>\n",
       "      <td>...</td>\n",
       "      <td>...</td>\n",
       "      <td>...</td>\n",
       "      <td>...</td>\n",
       "      <td>...</td>\n",
       "      <td>...</td>\n",
       "      <td>...</td>\n",
       "      <td>...</td>\n",
       "      <td>...</td>\n",
       "      <td>...</td>\n",
       "      <td>...</td>\n",
       "      <td>...</td>\n",
       "      <td>...</td>\n",
       "      <td>...</td>\n",
       "      <td>...</td>\n",
       "    </tr>\n",
       "    <tr>\n",
       "      <th>100831</th>\n",
       "      <td>610</td>\n",
       "      <td>160341</td>\n",
       "      <td>2.5</td>\n",
       "      <td>Bloodmoon (1997)</td>\n",
       "      <td>Action|Thriller</td>\n",
       "      <td>0</td>\n",
       "      <td>1</td>\n",
       "      <td>0</td>\n",
       "      <td>0</td>\n",
       "      <td>0</td>\n",
       "      <td>...</td>\n",
       "      <td>0</td>\n",
       "      <td>0</td>\n",
       "      <td>0</td>\n",
       "      <td>0</td>\n",
       "      <td>0</td>\n",
       "      <td>0</td>\n",
       "      <td>0</td>\n",
       "      <td>1</td>\n",
       "      <td>0</td>\n",
       "      <td>0</td>\n",
       "    </tr>\n",
       "    <tr>\n",
       "      <th>100832</th>\n",
       "      <td>610</td>\n",
       "      <td>160527</td>\n",
       "      <td>4.5</td>\n",
       "      <td>Sympathy for the Underdog (1971)</td>\n",
       "      <td>Action|Crime|Drama</td>\n",
       "      <td>0</td>\n",
       "      <td>1</td>\n",
       "      <td>0</td>\n",
       "      <td>0</td>\n",
       "      <td>0</td>\n",
       "      <td>...</td>\n",
       "      <td>0</td>\n",
       "      <td>0</td>\n",
       "      <td>0</td>\n",
       "      <td>0</td>\n",
       "      <td>0</td>\n",
       "      <td>0</td>\n",
       "      <td>0</td>\n",
       "      <td>0</td>\n",
       "      <td>0</td>\n",
       "      <td>0</td>\n",
       "    </tr>\n",
       "    <tr>\n",
       "      <th>100833</th>\n",
       "      <td>610</td>\n",
       "      <td>160836</td>\n",
       "      <td>3.0</td>\n",
       "      <td>Hazard (2005)</td>\n",
       "      <td>Action|Drama|Thriller</td>\n",
       "      <td>0</td>\n",
       "      <td>1</td>\n",
       "      <td>0</td>\n",
       "      <td>0</td>\n",
       "      <td>0</td>\n",
       "      <td>...</td>\n",
       "      <td>0</td>\n",
       "      <td>0</td>\n",
       "      <td>0</td>\n",
       "      <td>0</td>\n",
       "      <td>0</td>\n",
       "      <td>0</td>\n",
       "      <td>0</td>\n",
       "      <td>1</td>\n",
       "      <td>0</td>\n",
       "      <td>0</td>\n",
       "    </tr>\n",
       "    <tr>\n",
       "      <th>100834</th>\n",
       "      <td>610</td>\n",
       "      <td>163937</td>\n",
       "      <td>3.5</td>\n",
       "      <td>Blair Witch (2016)</td>\n",
       "      <td>Horror|Thriller</td>\n",
       "      <td>0</td>\n",
       "      <td>0</td>\n",
       "      <td>0</td>\n",
       "      <td>0</td>\n",
       "      <td>0</td>\n",
       "      <td>...</td>\n",
       "      <td>0</td>\n",
       "      <td>1</td>\n",
       "      <td>0</td>\n",
       "      <td>0</td>\n",
       "      <td>0</td>\n",
       "      <td>0</td>\n",
       "      <td>0</td>\n",
       "      <td>1</td>\n",
       "      <td>0</td>\n",
       "      <td>0</td>\n",
       "    </tr>\n",
       "    <tr>\n",
       "      <th>100835</th>\n",
       "      <td>610</td>\n",
       "      <td>163981</td>\n",
       "      <td>3.5</td>\n",
       "      <td>31 (2016)</td>\n",
       "      <td>Horror</td>\n",
       "      <td>0</td>\n",
       "      <td>0</td>\n",
       "      <td>0</td>\n",
       "      <td>0</td>\n",
       "      <td>0</td>\n",
       "      <td>...</td>\n",
       "      <td>0</td>\n",
       "      <td>1</td>\n",
       "      <td>0</td>\n",
       "      <td>0</td>\n",
       "      <td>0</td>\n",
       "      <td>0</td>\n",
       "      <td>0</td>\n",
       "      <td>0</td>\n",
       "      <td>0</td>\n",
       "      <td>0</td>\n",
       "    </tr>\n",
       "  </tbody>\n",
       "</table>\n",
       "<p>100836 rows × 25 columns</p>\n",
       "</div>"
      ],
      "text/plain": [
       "        userId  movieId  rating                             title  \\\n",
       "0            1        1     4.0                  Toy Story (1995)   \n",
       "1            5        1     4.0                  Toy Story (1995)   \n",
       "2            7        1     4.5                  Toy Story (1995)   \n",
       "3           15        1     2.5                  Toy Story (1995)   \n",
       "4           17        1     4.5                  Toy Story (1995)   \n",
       "...        ...      ...     ...                               ...   \n",
       "100831     610   160341     2.5                  Bloodmoon (1997)   \n",
       "100832     610   160527     4.5  Sympathy for the Underdog (1971)   \n",
       "100833     610   160836     3.0                     Hazard (2005)   \n",
       "100834     610   163937     3.5                Blair Witch (2016)   \n",
       "100835     610   163981     3.5                         31 (2016)   \n",
       "\n",
       "                                             genres  (no genres listed)  \\\n",
       "0       Adventure|Animation|Children|Comedy|Fantasy                   0   \n",
       "1       Adventure|Animation|Children|Comedy|Fantasy                   0   \n",
       "2       Adventure|Animation|Children|Comedy|Fantasy                   0   \n",
       "3       Adventure|Animation|Children|Comedy|Fantasy                   0   \n",
       "4       Adventure|Animation|Children|Comedy|Fantasy                   0   \n",
       "...                                             ...                 ...   \n",
       "100831                              Action|Thriller                   0   \n",
       "100832                           Action|Crime|Drama                   0   \n",
       "100833                        Action|Drama|Thriller                   0   \n",
       "100834                              Horror|Thriller                   0   \n",
       "100835                                       Horror                   0   \n",
       "\n",
       "        Action  Adventure  Animation  Children  ...  Film-Noir  Horror  IMAX  \\\n",
       "0            0          1          1         1  ...          0       0     0   \n",
       "1            0          1          1         1  ...          0       0     0   \n",
       "2            0          1          1         1  ...          0       0     0   \n",
       "3            0          1          1         1  ...          0       0     0   \n",
       "4            0          1          1         1  ...          0       0     0   \n",
       "...        ...        ...        ...       ...  ...        ...     ...   ...   \n",
       "100831       1          0          0         0  ...          0       0     0   \n",
       "100832       1          0          0         0  ...          0       0     0   \n",
       "100833       1          0          0         0  ...          0       0     0   \n",
       "100834       0          0          0         0  ...          0       1     0   \n",
       "100835       0          0          0         0  ...          0       1     0   \n",
       "\n",
       "        Musical  Mystery  Romance  Sci-Fi  Thriller  War  Western  \n",
       "0             0        0        0       0         0    0        0  \n",
       "1             0        0        0       0         0    0        0  \n",
       "2             0        0        0       0         0    0        0  \n",
       "3             0        0        0       0         0    0        0  \n",
       "4             0        0        0       0         0    0        0  \n",
       "...         ...      ...      ...     ...       ...  ...      ...  \n",
       "100831        0        0        0       0         1    0        0  \n",
       "100832        0        0        0       0         0    0        0  \n",
       "100833        0        0        0       0         1    0        0  \n",
       "100834        0        0        0       0         1    0        0  \n",
       "100835        0        0        0       0         0    0        0  \n",
       "\n",
       "[100836 rows x 25 columns]"
      ]
     },
     "execution_count": 17,
     "metadata": {},
     "output_type": "execute_result"
    }
   ],
   "source": [
    "# Droping timestamp and create new dataset\n",
    "rating_df1 = rating_df.copy()\n",
    "rating_df1.drop('timestamp', axis=1, inplace=True)\n",
    "\n",
    "# Merge ratings and movies dataframe based on movieId\n",
    "movie_ratings = pd.merge(rating_df1, movies_df, on='movieId')\n",
    "movie_ratings"
   ]
  },
  {
   "cell_type": "markdown",
   "id": "f9cb02a8",
   "metadata": {},
   "source": [
    "### Modeling\n",
    "\n",
    "Collaborative filtering "
   ]
  },
  {
   "cell_type": "code",
   "execution_count": 18,
   "id": "7beff9fd",
   "metadata": {},
   "outputs": [
    {
     "name": "stdout",
     "output_type": "stream",
     "text": [
      "<surprise.dataset.DatasetAutoFolds object at 0x7f8efecc93f0>\n"
     ]
    }
   ],
   "source": [
    "# Loading a dataset\n",
    "a = movie_ratings[['userId', 'movieId', 'rating']]\n",
    "reader = Reader(rating_scale=(0,5))\n",
    "sf = Dataset.load_from_df(a, reader)\n",
    "print(sf)"
   ]
  },
  {
   "cell_type": "code",
   "execution_count": 19,
   "id": "d044f6a4",
   "metadata": {},
   "outputs": [],
   "source": [
    "# split data into train and test sets\n",
    "trainset, testset = train_test_split(sf, test_size=0.25)"
   ]
  },
  {
   "cell_type": "markdown",
   "id": "d3c8c9dc",
   "metadata": {},
   "source": [
    "#### Baseline Model"
   ]
  },
  {
   "cell_type": "code",
   "execution_count": 20,
   "id": "f1c6bbaf",
   "metadata": {},
   "outputs": [
    {
     "data": {
      "text/plain": [
       "[Prediction(uid=156, iid=648, r_ui=3.5, est=5, details={'was_impossible': False}),\n",
       " Prediction(uid=483, iid=46948, r_ui=4.0, est=2.6899313859290546, details={'was_impossible': False}),\n",
       " Prediction(uid=596, iid=4015, r_ui=2.0, est=2.6043282807698382, details={'was_impossible': False}),\n",
       " Prediction(uid=332, iid=26258, r_ui=2.0, est=5, details={'was_impossible': False}),\n",
       " Prediction(uid=603, iid=988, r_ui=3.0, est=1.1250992033006408, details={'was_impossible': False})]"
      ]
     },
     "execution_count": 20,
     "metadata": {},
     "output_type": "execute_result"
    }
   ],
   "source": [
    "# Baseline model create, fit and train\n",
    "base_model = NormalPredictor()\n",
    "base_model.fit(trainset)\n",
    "\n",
    "# Using trained model to make predictions\n",
    "base_preds = base_model.test(testset)\n",
    "base_preds[:5]"
   ]
  },
  {
   "cell_type": "code",
   "execution_count": 21,
   "id": "a00fe7e8",
   "metadata": {},
   "outputs": [
    {
     "name": "stdout",
     "output_type": "stream",
     "text": [
      "MSE: 2.0477\n",
      "RMSE: 1.4310\n",
      "Base mobel MSE: 2.0476686015669308 and RMSE: 1.4309677150679994\n"
     ]
    }
   ],
   "source": [
    "mse = accuracy.mse(base_preds)\n",
    "rmse = accuracy.rmse(base_preds)\n",
    "print(f\"Base mobel MSE: {mse} and RMSE: {rmse}\")"
   ]
  },
  {
   "cell_type": "markdown",
   "id": "b2248626",
   "metadata": {},
   "source": [
    "#### SVD Model"
   ]
  },
  {
   "cell_type": "code",
   "execution_count": 22,
   "id": "48c968f4",
   "metadata": {},
   "outputs": [
    {
     "data": {
      "text/plain": [
       "[Prediction(uid=156, iid=648, r_ui=3.5, est=3.760419416526986, details={'was_impossible': False}),\n",
       " Prediction(uid=483, iid=46948, r_ui=4.0, est=3.3182330903194828, details={'was_impossible': False}),\n",
       " Prediction(uid=596, iid=4015, r_ui=2.0, est=2.8329091034181357, details={'was_impossible': False}),\n",
       " Prediction(uid=332, iid=26258, r_ui=2.0, est=3.3942312640823418, details={'was_impossible': False}),\n",
       " Prediction(uid=603, iid=988, r_ui=3.0, est=3.1799998986832345, details={'was_impossible': False})]"
      ]
     },
     "execution_count": 22,
     "metadata": {},
     "output_type": "execute_result"
    }
   ],
   "source": [
    "# SVD model create, fit and trian.\n",
    "svd = SVD(random_state=42)\n",
    "svd.fit(trainset)\n",
    "\n",
    "# Using trained model to make prediction of the testset\n",
    "svd_predictions = svd.test(testset)\n",
    "svd_predictions[:5]"
   ]
  },
  {
   "cell_type": "code",
   "execution_count": 23,
   "id": "23c88b65",
   "metadata": {},
   "outputs": [
    {
     "name": "stdout",
     "output_type": "stream",
     "text": [
      "Predcting rating for userId: 500 and movie: 1 is : 3.533555821158563\n",
      "Actual Rating: 4.0\n"
     ]
    }
   ],
   "source": [
    "user = 500\n",
    "movie = 1\n",
    "user_rating_pred = svd.predict(user, movie).est\n",
    "print(f\"Predcting rating for userId: 500 and movie: 1 is : {user_rating_pred}\")\n",
    "\n",
    "condition = (movie_ratings['userId'] == 500) & (movie_ratings['movieId'] == 1)\n",
    "actual_rating = movie_ratings[condition]['rating']\n",
    "print(f\"Actual Rating: {actual_rating.iloc[0]}\")"
   ]
  },
  {
   "cell_type": "code",
   "execution_count": 24,
   "id": "ccbd5e8b",
   "metadata": {},
   "outputs": [
    {
     "name": "stdout",
     "output_type": "stream",
     "text": [
      "User 190 and is not rated for movieId 2\n",
      "Rating Predication of user 190 unrated movie id 2 is: 3.6706164809064035\n"
     ]
    }
   ],
   "source": [
    "# predicting the movie rating that are not rated by the user\n",
    "random_predict = svd.predict(190, 2).est\n",
    "random_rating_check = movie_ratings[(rating_df1['userId'] == 190) & (movie_ratings['movieId'] == 2)]['rating']\n",
    "print(\"User 190 and is not rated for movieId 2\")\n",
    "print(f\"Rating Predication of user 190 unrated movie id 2 is: {random_predict}\")"
   ]
  },
  {
   "cell_type": "code",
   "execution_count": 25,
   "id": "b8bd3850",
   "metadata": {},
   "outputs": [],
   "source": [
    "# Get recommendations for user\n",
    "def get_recommendations(userId, model):\n",
    "    movies_not_rated = trainset.build_anti_testset()\n",
    "    movies_not_rated_user = [(userId, movieId, 0) for userId, movieId, _ in movies_not_rated]\n",
    "    predictions = model.test(movies_not_rated_user)\n",
    "    top_n = [(pred.iid, pred.est) for pred in predictions]\n",
    "    top_n.sort(key=lambda x:x[1], reverse=True)\n",
    "    top_10_recommendations = top_n[:10]\n",
    "    return top_10_recommendations"
   ]
  },
  {
   "cell_type": "code",
   "execution_count": 26,
   "id": "6e02c05e",
   "metadata": {},
   "outputs": [],
   "source": [
    "# Get recommendations with mapping title\n",
    "def get_recommended_movies(userId, model):\n",
    "    top_10 = get_recommendations(userId, model)\n",
    "    df = pd.DataFrame(top_10, columns=['movieId', 'predicted_rating'])\n",
    "    df_movie_name = pd.merge(df, movies_df[['movieId', 'title']], on='movieId')\n",
    "    return df_movie_name"
   ]
  },
  {
   "cell_type": "code",
   "execution_count": 27,
   "id": "a0b5e458",
   "metadata": {},
   "outputs": [
    {
     "name": "stdout",
     "output_type": "stream",
     "text": [
      "SVD recommendations of top 10\n"
     ]
    },
    {
     "data": {
      "text/html": [
       "<div>\n",
       "<style scoped>\n",
       "    .dataframe tbody tr th:only-of-type {\n",
       "        vertical-align: middle;\n",
       "    }\n",
       "\n",
       "    .dataframe tbody tr th {\n",
       "        vertical-align: top;\n",
       "    }\n",
       "\n",
       "    .dataframe thead th {\n",
       "        text-align: right;\n",
       "    }\n",
       "</style>\n",
       "<table border=\"1\" class=\"dataframe\">\n",
       "  <thead>\n",
       "    <tr style=\"text-align: right;\">\n",
       "      <th></th>\n",
       "      <th>movieId</th>\n",
       "      <th>predicted_rating</th>\n",
       "      <th>title</th>\n",
       "    </tr>\n",
       "  </thead>\n",
       "  <tbody>\n",
       "    <tr>\n",
       "      <th>0</th>\n",
       "      <td>1193</td>\n",
       "      <td>5</td>\n",
       "      <td>One Flew Over the Cuckoo's Nest (1975)</td>\n",
       "    </tr>\n",
       "    <tr>\n",
       "      <th>1</th>\n",
       "      <td>1204</td>\n",
       "      <td>5</td>\n",
       "      <td>Lawrence of Arabia (1962)</td>\n",
       "    </tr>\n",
       "    <tr>\n",
       "      <th>2</th>\n",
       "      <td>58559</td>\n",
       "      <td>5</td>\n",
       "      <td>Dark Knight, The (2008)</td>\n",
       "    </tr>\n",
       "    <tr>\n",
       "      <th>3</th>\n",
       "      <td>2700</td>\n",
       "      <td>5</td>\n",
       "      <td>South Park: Bigger, Longer and Uncut (1999)</td>\n",
       "    </tr>\n",
       "    <tr>\n",
       "      <th>4</th>\n",
       "      <td>318</td>\n",
       "      <td>5</td>\n",
       "      <td>Shawshank Redemption, The (1994)</td>\n",
       "    </tr>\n",
       "    <tr>\n",
       "      <th>5</th>\n",
       "      <td>2959</td>\n",
       "      <td>5</td>\n",
       "      <td>Fight Club (1999)</td>\n",
       "    </tr>\n",
       "    <tr>\n",
       "      <th>6</th>\n",
       "      <td>168252</td>\n",
       "      <td>5</td>\n",
       "      <td>Logan (2017)</td>\n",
       "    </tr>\n",
       "    <tr>\n",
       "      <th>7</th>\n",
       "      <td>2019</td>\n",
       "      <td>5</td>\n",
       "      <td>Seven Samurai (Shichinin no samurai) (1954)</td>\n",
       "    </tr>\n",
       "    <tr>\n",
       "      <th>8</th>\n",
       "      <td>904</td>\n",
       "      <td>5</td>\n",
       "      <td>Rear Window (1954)</td>\n",
       "    </tr>\n",
       "    <tr>\n",
       "      <th>9</th>\n",
       "      <td>898</td>\n",
       "      <td>5</td>\n",
       "      <td>Philadelphia Story, The (1940)</td>\n",
       "    </tr>\n",
       "  </tbody>\n",
       "</table>\n",
       "</div>"
      ],
      "text/plain": [
       "   movieId  predicted_rating                                        title\n",
       "0     1193                 5       One Flew Over the Cuckoo's Nest (1975)\n",
       "1     1204                 5                    Lawrence of Arabia (1962)\n",
       "2    58559                 5                      Dark Knight, The (2008)\n",
       "3     2700                 5  South Park: Bigger, Longer and Uncut (1999)\n",
       "4      318                 5             Shawshank Redemption, The (1994)\n",
       "5     2959                 5                            Fight Club (1999)\n",
       "6   168252                 5                                 Logan (2017)\n",
       "7     2019                 5  Seven Samurai (Shichinin no samurai) (1954)\n",
       "8      904                 5                           Rear Window (1954)\n",
       "9      898                 5               Philadelphia Story, The (1940)"
      ]
     },
     "execution_count": 27,
     "metadata": {},
     "output_type": "execute_result"
    }
   ],
   "source": [
    "# Top 10 movie recommendatioans for userId 1\n",
    "print(\"SVD recommendations of top 10\")\n",
    "get_recommended_movies(1, svd)"
   ]
  },
  {
   "cell_type": "markdown",
   "id": "223fd834",
   "metadata": {},
   "source": [
    "#### SlopeOne Model"
   ]
  },
  {
   "cell_type": "code",
   "execution_count": 28,
   "id": "28b78884",
   "metadata": {},
   "outputs": [
    {
     "data": {
      "text/plain": [
       "[Prediction(uid=156, iid=648, r_ui=3.5, est=3.2257214262442218, details={'was_impossible': False}),\n",
       " Prediction(uid=483, iid=46948, r_ui=4.0, est=3.3696551624873097, details={'was_impossible': False}),\n",
       " Prediction(uid=596, iid=4015, r_ui=2.0, est=2.6161017278535725, details={'was_impossible': False}),\n",
       " Prediction(uid=332, iid=26258, r_ui=2.0, est=5, details={'was_impossible': False}),\n",
       " Prediction(uid=603, iid=988, r_ui=3.0, est=2.9864074600916704, details={'was_impossible': False})]"
      ]
     },
     "execution_count": 28,
     "metadata": {},
     "output_type": "execute_result"
    }
   ],
   "source": [
    "# Create, fit and train SlopeOne model\n",
    "slope_one = SlopeOne()\n",
    "slope_one.fit(trainset)\n",
    "slope_one_preds = slope_one.test(testset)\n",
    "\n",
    "slope_one_preds[:5]"
   ]
  },
  {
   "cell_type": "code",
   "execution_count": 29,
   "id": "54d60421",
   "metadata": {},
   "outputs": [
    {
     "name": "stdout",
     "output_type": "stream",
     "text": [
      "SlopeOne recommendation of top 10\n"
     ]
    },
    {
     "data": {
      "text/html": [
       "<div>\n",
       "<style scoped>\n",
       "    .dataframe tbody tr th:only-of-type {\n",
       "        vertical-align: middle;\n",
       "    }\n",
       "\n",
       "    .dataframe tbody tr th {\n",
       "        vertical-align: top;\n",
       "    }\n",
       "\n",
       "    .dataframe thead th {\n",
       "        text-align: right;\n",
       "    }\n",
       "</style>\n",
       "<table border=\"1\" class=\"dataframe\">\n",
       "  <thead>\n",
       "    <tr style=\"text-align: right;\">\n",
       "      <th></th>\n",
       "      <th>movieId</th>\n",
       "      <th>predicted_rating</th>\n",
       "      <th>title</th>\n",
       "    </tr>\n",
       "  </thead>\n",
       "  <tbody>\n",
       "    <tr>\n",
       "      <th>0</th>\n",
       "      <td>4226</td>\n",
       "      <td>5</td>\n",
       "      <td>Memento (2000)</td>\n",
       "    </tr>\n",
       "    <tr>\n",
       "      <th>1</th>\n",
       "      <td>26082</td>\n",
       "      <td>5</td>\n",
       "      <td>Harakiri (Seppuku) (1962)</td>\n",
       "    </tr>\n",
       "    <tr>\n",
       "      <th>2</th>\n",
       "      <td>1942</td>\n",
       "      <td>5</td>\n",
       "      <td>All the King's Men (1949)</td>\n",
       "    </tr>\n",
       "    <tr>\n",
       "      <th>3</th>\n",
       "      <td>6620</td>\n",
       "      <td>5</td>\n",
       "      <td>American Splendor (2003)</td>\n",
       "    </tr>\n",
       "    <tr>\n",
       "      <th>4</th>\n",
       "      <td>25788</td>\n",
       "      <td>5</td>\n",
       "      <td>Scarface (1932)</td>\n",
       "    </tr>\n",
       "    <tr>\n",
       "      <th>5</th>\n",
       "      <td>356</td>\n",
       "      <td>5</td>\n",
       "      <td>Forrest Gump (1994)</td>\n",
       "    </tr>\n",
       "    <tr>\n",
       "      <th>6</th>\n",
       "      <td>1204</td>\n",
       "      <td>5</td>\n",
       "      <td>Lawrence of Arabia (1962)</td>\n",
       "    </tr>\n",
       "    <tr>\n",
       "      <th>7</th>\n",
       "      <td>926</td>\n",
       "      <td>5</td>\n",
       "      <td>All About Eve (1950)</td>\n",
       "    </tr>\n",
       "    <tr>\n",
       "      <th>8</th>\n",
       "      <td>3851</td>\n",
       "      <td>5</td>\n",
       "      <td>I'm the One That I Want (2000)</td>\n",
       "    </tr>\n",
       "    <tr>\n",
       "      <th>9</th>\n",
       "      <td>102993</td>\n",
       "      <td>5</td>\n",
       "      <td>Way, Way Back, The (2013)</td>\n",
       "    </tr>\n",
       "  </tbody>\n",
       "</table>\n",
       "</div>"
      ],
      "text/plain": [
       "   movieId  predicted_rating                           title\n",
       "0     4226                 5                  Memento (2000)\n",
       "1    26082                 5       Harakiri (Seppuku) (1962)\n",
       "2     1942                 5       All the King's Men (1949)\n",
       "3     6620                 5        American Splendor (2003)\n",
       "4    25788                 5                 Scarface (1932)\n",
       "5      356                 5             Forrest Gump (1994)\n",
       "6     1204                 5       Lawrence of Arabia (1962)\n",
       "7      926                 5            All About Eve (1950)\n",
       "8     3851                 5  I'm the One That I Want (2000)\n",
       "9   102993                 5       Way, Way Back, The (2013)"
      ]
     },
     "execution_count": 29,
     "metadata": {},
     "output_type": "execute_result"
    }
   ],
   "source": [
    "# top 10 movie recommendation for userId 1 using SlopeOne model\n",
    "print(\"SlopeOne recommendation of top 10\")\n",
    "get_recommended_movies(1, slope_one)"
   ]
  },
  {
   "cell_type": "markdown",
   "id": "b1c8e311",
   "metadata": {},
   "source": [
    "#### KNN Basic Model"
   ]
  },
  {
   "cell_type": "code",
   "execution_count": 30,
   "id": "f427118c",
   "metadata": {},
   "outputs": [
    {
     "name": "stdout",
     "output_type": "stream",
     "text": [
      "Computing the msd similarity matrix...\n",
      "Done computing similarity matrix.\n"
     ]
    },
    {
     "data": {
      "text/plain": [
       "[Prediction(uid=156, iid=648, r_ui=3.5, est=3.5014083386936883, details={'actual_k': 40, 'was_impossible': False}),\n",
       " Prediction(uid=483, iid=46948, r_ui=4.0, est=2.9687465007738347, details={'actual_k': 7, 'was_impossible': False}),\n",
       " Prediction(uid=596, iid=4015, r_ui=2.0, est=2.8609619684776946, details={'actual_k': 26, 'was_impossible': False}),\n",
       " Prediction(uid=332, iid=26258, r_ui=2.0, est=4.469839176094566, details={'actual_k': 2, 'was_impossible': False}),\n",
       " Prediction(uid=603, iid=988, r_ui=3.0, est=3.0000000000000004, details={'actual_k': 1, 'was_impossible': False})]"
      ]
     },
     "execution_count": 30,
     "metadata": {},
     "output_type": "execute_result"
    }
   ],
   "source": [
    "# Create, fit and train KNN Basic model\n",
    "knn = KNNBasic()\n",
    "knn.fit(trainset)\n",
    "knn_preds = knn.test(testset)\n",
    "\n",
    "knn_preds[:5]"
   ]
  },
  {
   "cell_type": "markdown",
   "id": "f74c48a9",
   "metadata": {},
   "source": [
    "#### GridSearchCV\n",
    "Optimizing SVD hyperparameter tuning, to improve the performance of the model."
   ]
  },
  {
   "cell_type": "code",
   "execution_count": 31,
   "id": "e5f2c247",
   "metadata": {},
   "outputs": [],
   "source": [
    "# defining parameter grid to search over\n",
    "param_grid = {'n_factors': [10, 25, 50, 100], 'n_epochs': [5, 10, 20, 30], 'lr_all': [0.001, 0.005, 0.01, 0.1]}\n",
    "svd = SVD(random_state=42)\n",
    "# Instantiate GridSearchCV with the SVD algorithm and parameter grid\n",
    "grid_search = GridSearchCV(SVD, param_grid, measures=['rmse', 'mse'], cv=3)\n",
    "\n",
    "# perform the grid search\n",
    "grid_search.fit(sf)"
   ]
  },
  {
   "cell_type": "code",
   "execution_count": 32,
   "id": "99e8b9d6",
   "metadata": {},
   "outputs": [
    {
     "name": "stdout",
     "output_type": "stream",
     "text": [
      "Best Parameters: {'n_factors': 10, 'n_epochs': 30, 'lr_all': 0.005}\n",
      "Best RMSE Score: 0.8719138589629417\n"
     ]
    }
   ],
   "source": [
    "# Get the best parameters and their corresponding RMSE score\n",
    "print(\"Best Parameters:\", grid_search.best_params['rmse'])\n",
    "print(\"Best RMSE Score:\", grid_search.best_score['rmse'])"
   ]
  },
  {
   "cell_type": "code",
   "execution_count": 33,
   "id": "e1c250b3",
   "metadata": {},
   "outputs": [
    {
     "data": {
      "text/plain": [
       "[Prediction(uid=156, iid=648, r_ui=3.5, est=3.3197976048059594, details={'was_impossible': False}),\n",
       " Prediction(uid=483, iid=46948, r_ui=4.0, est=3.1048878921515985, details={'was_impossible': False}),\n",
       " Prediction(uid=596, iid=4015, r_ui=2.0, est=2.8643247473089986, details={'was_impossible': False}),\n",
       " Prediction(uid=332, iid=26258, r_ui=2.0, est=3.851983173106365, details={'was_impossible': False}),\n",
       " Prediction(uid=603, iid=988, r_ui=3.0, est=3.2976603153373807, details={'was_impossible': False})]"
      ]
     },
     "execution_count": 33,
     "metadata": {},
     "output_type": "execute_result"
    }
   ],
   "source": [
    "# create SVD with best hyperparameters\n",
    "tuned_svd = SVD(n_factors=25, n_epochs=20, lr_all=0.01)\n",
    "tuned_svd.fit(trainset)\n",
    "tuned_svd_preds = tuned_svd.test(testset)\n",
    "\n",
    "tuned_svd_preds[:5]"
   ]
  },
  {
   "cell_type": "markdown",
   "id": "5c41a211",
   "metadata": {},
   "source": [
    "#### Content based recommendation system\n",
    "\n",
    "Content based recommendation system using TFIDFVectorizer and Cosine Similarity"
   ]
  },
  {
   "cell_type": "code",
   "execution_count": 34,
   "id": "494111a6",
   "metadata": {},
   "outputs": [
    {
     "data": {
      "text/html": [
       "<div>\n",
       "<style scoped>\n",
       "    .dataframe tbody tr th:only-of-type {\n",
       "        vertical-align: middle;\n",
       "    }\n",
       "\n",
       "    .dataframe tbody tr th {\n",
       "        vertical-align: top;\n",
       "    }\n",
       "\n",
       "    .dataframe thead th {\n",
       "        text-align: right;\n",
       "    }\n",
       "</style>\n",
       "<table border=\"1\" class=\"dataframe\">\n",
       "  <thead>\n",
       "    <tr style=\"text-align: right;\">\n",
       "      <th></th>\n",
       "      <th>title</th>\n",
       "      <th>tag</th>\n",
       "      <th>SimilarityScore</th>\n",
       "    </tr>\n",
       "  </thead>\n",
       "  <tbody>\n",
       "    <tr>\n",
       "      <th>89463</th>\n",
       "      <td>The Lego Batman Movie (2017)</td>\n",
       "      <td>funny heartwarming</td>\n",
       "      <td>0.676294</td>\n",
       "    </tr>\n",
       "    <tr>\n",
       "      <th>17230</th>\n",
       "      <td>Step Brothers (2008)</td>\n",
       "      <td>funny Highly quotable will ferrell comedy funn...</td>\n",
       "      <td>0.568249</td>\n",
       "    </tr>\n",
       "    <tr>\n",
       "      <th>68765</th>\n",
       "      <td>The DUFF (2015)</td>\n",
       "      <td>funny high school</td>\n",
       "      <td>0.548529</td>\n",
       "    </tr>\n",
       "    <tr>\n",
       "      <th>57413</th>\n",
       "      <td>Big Short, The (2015)</td>\n",
       "      <td>funny interesting Witty</td>\n",
       "      <td>0.512679</td>\n",
       "    </tr>\n",
       "    <tr>\n",
       "      <th>87997</th>\n",
       "      <td>Inside Llewyn Davis (2013)</td>\n",
       "      <td>atmospheric cinematography depressing funny</td>\n",
       "      <td>0.452261</td>\n",
       "    </tr>\n",
       "  </tbody>\n",
       "</table>\n",
       "</div>"
      ],
      "text/plain": [
       "                              title  \\\n",
       "89463  The Lego Batman Movie (2017)   \n",
       "17230          Step Brothers (2008)   \n",
       "68765               The DUFF (2015)   \n",
       "57413         Big Short, The (2015)   \n",
       "87997    Inside Llewyn Davis (2013)   \n",
       "\n",
       "                                                     tag  SimilarityScore  \n",
       "89463                                 funny heartwarming         0.676294  \n",
       "17230  funny Highly quotable will ferrell comedy funn...         0.568249  \n",
       "68765                                  funny high school         0.548529  \n",
       "57413                            funny interesting Witty         0.512679  \n",
       "87997        atmospheric cinematography depressing funny         0.452261  "
      ]
     },
     "execution_count": 34,
     "metadata": {},
     "output_type": "execute_result"
    }
   ],
   "source": [
    "tags_with_movie = tags_df.groupby('movieId')['tag'].apply(lambda x: ' '.join(x)).reset_index()\n",
    "tagged_movie_ratings = pd.merge(movie_ratings, tags_with_movie, how='left', on='movieId')\n",
    "\n",
    "# merge tags with movie ratings\n",
    "tagged_movie_ratings['tag'] = tagged_movie_ratings['tag'].fillna('')\n",
    "\n",
    "# vectorization of tags using TF-IDF\n",
    "vectorizer = TfidfVectorizer(stop_words='english')\n",
    "tags_matrix = vectorizer.fit_transform(tagged_movie_ratings['tag'])\n",
    "\n",
    "user_preferences = 'funny'\n",
    "\n",
    "user_vector = vectorizer.transform([user_preferences])\n",
    "\n",
    "# Calculating cosine similarity between user preferences and movies\n",
    "cosine_similarities = cosine_similarity(user_vector, tags_matrix).flatten()\n",
    "\n",
    "recommended_movies = tagged_movie_ratings[['title', 'tag']].copy()\n",
    "recommended_movies['SimilarityScore'] = cosine_similarities\n",
    "\n",
    "recommended_movies = (recommended_movies.sort_values(by='SimilarityScore', ascending=False)).drop_duplicates()\n",
    "\n",
    "# recommending funny content\n",
    "recommended_movies[['title', 'tag', 'SimilarityScore']].head(5)"
   ]
  },
  {
   "cell_type": "markdown",
   "id": "e1bd83f4",
   "metadata": {},
   "source": [
    "The MovieLens dataset doesn't have explicit tags for each movie, and the dataset is not structured in a way that supports effective content-based recommendation using tags"
   ]
  },
  {
   "cell_type": "markdown",
   "id": "52d03a89",
   "metadata": {},
   "source": [
    "#### Evaluating the model\n",
    "Evaluating the model's performance using the Mean Squared Error(MSE) and Root Mean Squared Error(RMSE).\n"
   ]
  },
  {
   "cell_type": "code",
   "execution_count": 35,
   "id": "aa8f087b",
   "metadata": {},
   "outputs": [],
   "source": [
    "# creating data frame to compare models preformance \n",
    "compare_models = pd.DataFrame(columns=['Model', 'MSE', 'RMSE', 'Fit Time'])"
   ]
  },
  {
   "cell_type": "code",
   "execution_count": 36,
   "id": "4df2242b",
   "metadata": {},
   "outputs": [],
   "source": [
    "# Cross validating model and return results\n",
    "def model_cross_validation(model):\n",
    "    cross_val_results = cross_validate(model, sf, measures=['MSE', 'RMSE'])\n",
    "\n",
    "    mse = np.mean(cross_val_results['test_mse'], axis=0)\n",
    "    rmse = np.mean(cross_val_results['test_rmse'], axis=0)\n",
    "    fit_time = np.mean(cross_val_results['fit_time'], axis=0)\n",
    "    return (mse, rmse, fit_time)"
   ]
  },
  {
   "cell_type": "code",
   "execution_count": 37,
   "id": "d930d06c",
   "metadata": {},
   "outputs": [],
   "source": [
    "# finding and adding base model cross validatoin results to dataframe\n",
    "mse, rmse, fit_time = model_cross_validation(base_model)\n",
    "compare_models.loc[0] = ['Baseline', mse, rmse, fit_time]"
   ]
  },
  {
   "cell_type": "code",
   "execution_count": 38,
   "id": "edcf0d4f",
   "metadata": {},
   "outputs": [],
   "source": [
    "# finding and adding SlopeOne model cross validatoin results to dataframe\n",
    "mse, rmse, fit_time = model_cross_validation(slope_one)\n",
    "compare_models.loc[1] = ['SlopeOne', mse, rmse, fit_time]"
   ]
  },
  {
   "cell_type": "code",
   "execution_count": 39,
   "id": "f6cf063c",
   "metadata": {},
   "outputs": [
    {
     "name": "stdout",
     "output_type": "stream",
     "text": [
      "Computing the msd similarity matrix...\n",
      "Done computing similarity matrix.\n",
      "Computing the msd similarity matrix...\n",
      "Done computing similarity matrix.\n",
      "Computing the msd similarity matrix...\n",
      "Done computing similarity matrix.\n",
      "Computing the msd similarity matrix...\n",
      "Done computing similarity matrix.\n",
      "Computing the msd similarity matrix...\n",
      "Done computing similarity matrix.\n"
     ]
    }
   ],
   "source": [
    "# finding and adding KNNBasic model cross validatoin results to dataframe\n",
    "mse, rmse, fit_time = model_cross_validation(knn)\n",
    "compare_models.loc[2] = ['KNNBasic', mse, rmse, fit_time]"
   ]
  },
  {
   "cell_type": "code",
   "execution_count": 40,
   "id": "4f1846c3",
   "metadata": {},
   "outputs": [],
   "source": [
    "# finding and adding SVD model cross validatoin results to dataframe\n",
    "mse, rmse, fit_time = model_cross_validation(svd)\n",
    "compare_models.loc[3] = ['SVD', mse, rmse, fit_time]"
   ]
  },
  {
   "cell_type": "code",
   "execution_count": 41,
   "id": "015144eb",
   "metadata": {},
   "outputs": [],
   "source": [
    "mse, rmse, fit_time = model_cross_validation(tuned_svd)\n",
    "compare_models.loc[4] = ['Tuned SVD', mse, rmse, fit_time]"
   ]
  },
  {
   "cell_type": "code",
   "execution_count": 48,
   "id": "506a14ff",
   "metadata": {},
   "outputs": [
    {
     "data": {
      "text/html": [
       "<div>\n",
       "<style scoped>\n",
       "    .dataframe tbody tr th:only-of-type {\n",
       "        vertical-align: middle;\n",
       "    }\n",
       "\n",
       "    .dataframe tbody tr th {\n",
       "        vertical-align: top;\n",
       "    }\n",
       "\n",
       "    .dataframe thead th {\n",
       "        text-align: right;\n",
       "    }\n",
       "</style>\n",
       "<table border=\"1\" class=\"dataframe\">\n",
       "  <thead>\n",
       "    <tr style=\"text-align: right;\">\n",
       "      <th></th>\n",
       "      <th>MSE</th>\n",
       "      <th>RMSE</th>\n",
       "      <th>Fit Time</th>\n",
       "    </tr>\n",
       "    <tr>\n",
       "      <th>Model</th>\n",
       "      <th></th>\n",
       "      <th></th>\n",
       "      <th></th>\n",
       "    </tr>\n",
       "  </thead>\n",
       "  <tbody>\n",
       "    <tr>\n",
       "      <th>Baseline</th>\n",
       "      <td>2.030205</td>\n",
       "      <td>1.424841</td>\n",
       "      <td>0.083877</td>\n",
       "    </tr>\n",
       "    <tr>\n",
       "      <th>SlopeOne</th>\n",
       "      <td>0.813923</td>\n",
       "      <td>0.902168</td>\n",
       "      <td>3.176111</td>\n",
       "    </tr>\n",
       "    <tr>\n",
       "      <th>KNNBasic</th>\n",
       "      <td>0.895639</td>\n",
       "      <td>0.946371</td>\n",
       "      <td>0.076782</td>\n",
       "    </tr>\n",
       "    <tr>\n",
       "      <th>SVD</th>\n",
       "      <td>0.760560</td>\n",
       "      <td>0.872092</td>\n",
       "      <td>0.723550</td>\n",
       "    </tr>\n",
       "    <tr>\n",
       "      <th>Tuned SVD</th>\n",
       "      <td>0.764946</td>\n",
       "      <td>0.874606</td>\n",
       "      <td>0.474910</td>\n",
       "    </tr>\n",
       "  </tbody>\n",
       "</table>\n",
       "</div>"
      ],
      "text/plain": [
       "                MSE      RMSE  Fit Time\n",
       "Model                                  \n",
       "Baseline   2.030205  1.424841  0.083877\n",
       "SlopeOne   0.813923  0.902168  3.176111\n",
       "KNNBasic   0.895639  0.946371  0.076782\n",
       "SVD        0.760560  0.872092  0.723550\n",
       "Tuned SVD  0.764946  0.874606  0.474910"
      ]
     },
     "execution_count": 48,
     "metadata": {},
     "output_type": "execute_result"
    }
   ],
   "source": [
    "compare_models.set_index('Model', inplace=True)\n",
    "compare_models"
   ]
  },
  {
   "cell_type": "code",
   "execution_count": 49,
   "id": "0c55fd0f",
   "metadata": {},
   "outputs": [
    {
     "data": {
      "image/png": "[encoded data removed]",
      "text/plain": [
       "<Figure size 1000x600 with 1 Axes>"
      ]
     },
     "metadata": {},
     "output_type": "display_data"
    }
   ],
   "source": [
    "#compare_models.set_index('Model', inplace=True)\n",
    "compare_models.plot(kind='bar', rot=0, figsize=(10, 6), colormap='tab10')\n",
    "plt.title('Comparing Models')\n",
    "plt.xlabel('Models')\n",
    "plt.ylabel('Minimization Metric')\n",
    "plt.show()"
   ]
  },
  {
   "cell_type": "markdown",
   "id": "5b8a9f51",
   "metadata": {},
   "source": [
    "#### Selecting the best model"
   ]
  },
  {
   "cell_type": "markdown",
   "id": "af968516",
   "metadata": {},
   "source": [
    "After comparing the all the models, such as Baseline, SlopOne, KNNBasic and SVD, the SVD with hyperperameter tuning seems to be the best choice since it has low mean square error and root mean squared error, also the less fit time."
   ]
  },
  {
   "cell_type": "markdown",
   "id": "304495af",
   "metadata": {},
   "source": [
    "#### Applying Model"
   ]
  },
  {
   "cell_type": "code",
   "execution_count": 44,
   "id": "328b3da5",
   "metadata": {},
   "outputs": [
    {
     "name": "stdout",
     "output_type": "stream",
     "text": [
      "Tuned SVD recommendation of top 10 for userId 100\n"
     ]
    },
    {
     "data": {
      "text/html": [
       "<div>\n",
       "<style scoped>\n",
       "    .dataframe tbody tr th:only-of-type {\n",
       "        vertical-align: middle;\n",
       "    }\n",
       "\n",
       "    .dataframe tbody tr th {\n",
       "        vertical-align: top;\n",
       "    }\n",
       "\n",
       "    .dataframe thead th {\n",
       "        text-align: right;\n",
       "    }\n",
       "</style>\n",
       "<table border=\"1\" class=\"dataframe\">\n",
       "  <thead>\n",
       "    <tr style=\"text-align: right;\">\n",
       "      <th></th>\n",
       "      <th>movieId</th>\n",
       "      <th>predicted_rating</th>\n",
       "      <th>title</th>\n",
       "    </tr>\n",
       "  </thead>\n",
       "  <tbody>\n",
       "    <tr>\n",
       "      <th>0</th>\n",
       "      <td>4011</td>\n",
       "      <td>5</td>\n",
       "      <td>Snatch (2000)</td>\n",
       "    </tr>\n",
       "    <tr>\n",
       "      <th>1</th>\n",
       "      <td>4226</td>\n",
       "      <td>5</td>\n",
       "      <td>Memento (2000)</td>\n",
       "    </tr>\n",
       "    <tr>\n",
       "      <th>2</th>\n",
       "      <td>933</td>\n",
       "      <td>5</td>\n",
       "      <td>To Catch a Thief (1955)</td>\n",
       "    </tr>\n",
       "    <tr>\n",
       "      <th>3</th>\n",
       "      <td>1204</td>\n",
       "      <td>5</td>\n",
       "      <td>Lawrence of Arabia (1962)</td>\n",
       "    </tr>\n",
       "    <tr>\n",
       "      <th>4</th>\n",
       "      <td>8132</td>\n",
       "      <td>5</td>\n",
       "      <td>Gladiator (1992)</td>\n",
       "    </tr>\n",
       "    <tr>\n",
       "      <th>5</th>\n",
       "      <td>1208</td>\n",
       "      <td>5</td>\n",
       "      <td>Apocalypse Now (1979)</td>\n",
       "    </tr>\n",
       "    <tr>\n",
       "      <th>6</th>\n",
       "      <td>296</td>\n",
       "      <td>5</td>\n",
       "      <td>Pulp Fiction (1994)</td>\n",
       "    </tr>\n",
       "    <tr>\n",
       "      <th>7</th>\n",
       "      <td>318</td>\n",
       "      <td>5</td>\n",
       "      <td>Shawshank Redemption, The (1994)</td>\n",
       "    </tr>\n",
       "    <tr>\n",
       "      <th>8</th>\n",
       "      <td>7361</td>\n",
       "      <td>5</td>\n",
       "      <td>Eternal Sunshine of the Spotless Mind (2004)</td>\n",
       "    </tr>\n",
       "    <tr>\n",
       "      <th>9</th>\n",
       "      <td>2959</td>\n",
       "      <td>5</td>\n",
       "      <td>Fight Club (1999)</td>\n",
       "    </tr>\n",
       "  </tbody>\n",
       "</table>\n",
       "</div>"
      ],
      "text/plain": [
       "   movieId  predicted_rating                                         title\n",
       "0     4011                 5                                 Snatch (2000)\n",
       "1     4226                 5                                Memento (2000)\n",
       "2      933                 5                       To Catch a Thief (1955)\n",
       "3     1204                 5                     Lawrence of Arabia (1962)\n",
       "4     8132                 5                              Gladiator (1992)\n",
       "5     1208                 5                         Apocalypse Now (1979)\n",
       "6      296                 5                           Pulp Fiction (1994)\n",
       "7      318                 5              Shawshank Redemption, The (1994)\n",
       "8     7361                 5  Eternal Sunshine of the Spotless Mind (2004)\n",
       "9     2959                 5                             Fight Club (1999)"
      ]
     },
     "execution_count": 44,
     "metadata": {},
     "output_type": "execute_result"
    }
   ],
   "source": [
    "# top 10 movie recommendation for userId 100 using SlopeOne model\n",
    "print(\"Tuned SVD recommendation of top 10 for userId 100\")\n",
    "get_recommended_movies(100, tuned_svd)"
   ]
  }
 ],
 "metadata": {
  "kernelspec": {
   "display_name": "Python 3 (ipykernel)",
   "language": "python",
   "name": "python3"
  },
  "language_info": {
   "codemirror_mode": {
    "name": "ipython",
    "version": 3
   },
   "file_extension": ".py",
   "mimetype": "text/x-python",
   "name": "python",
   "nbconvert_exporter": "python",
   "pygments_lexer": "ipython3",
   "version": "3.10.9"
  }
 },
 "nbformat": 4,
 "nbformat_minor": 5
}
